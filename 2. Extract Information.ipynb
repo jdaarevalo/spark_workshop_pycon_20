{
 "cells": [
  {
   "cell_type": "markdown",
   "metadata": {
    "slideshow": {
     "slide_type": "slide"
    }
   },
   "source": [
    "# Extract Information PySpark\n",
    "\n",
    "\n",
    "\n",
    "\n",
    "## *Instructor: José David Arévalo*\n",
    "\n",
    "- email: <jdaarevalo@gmail.com>\n",
    "- twitter: [@jdaarevalo](https://twitter.com/jdaarevalo)\n",
    "- linkedin: [jdavidarevalo](https://www.linkedin.com/in/jdavidarevalo/)\n",
    "- github: [jdaarevalo](https://github.com/jdaarevalo)\n",
    "\n",
    "\n",
    "\n",
    "###### Febrero, 2020\n"
   ]
  },
  {
   "cell_type": "code",
   "execution_count": 1,
   "metadata": {},
   "outputs": [],
   "source": [
    "# Importamos los modulos necesarios\n",
    "# import pyspark  #python package\n",
    "\n",
    "import findspark\n",
    "findspark.init()\n",
    "\n",
    "import pyspark"
   ]
  },
  {
   "cell_type": "code",
   "execution_count": 2,
   "metadata": {},
   "outputs": [
    {
     "data": {
      "text/plain": [
       "<module 'pyspark' from '/usr/local/spark/python/pyspark/__init__.py'>"
      ]
     },
     "execution_count": 2,
     "metadata": {},
     "output_type": "execute_result"
    }
   ],
   "source": [
    "pyspark"
   ]
  },
  {
   "cell_type": "code",
   "execution_count": 3,
   "metadata": {},
   "outputs": [],
   "source": [
    "# si no logra hacer el import de pyspark, sera necesario instalarlo\n",
    "# usar !pip install pyspark"
   ]
  },
  {
   "cell_type": "code",
   "execution_count": 56,
   "metadata": {},
   "outputs": [],
   "source": [
    "# objeto principal o la base a partir de la cual cuelga toda la funcionalidad de Apache Spark\n",
    "from pyspark.sql import SparkSession\n",
    "\n",
    "# Se trata del context básico de Spark, desde donde se crean el resto de variables \n",
    "# que maneja el framework. Sólo un SparkContext puede estar activo por JVM.\n",
    "from pyspark import SparkContext\n",
    "\n",
    "# el objeto functions del modulo sql define las funciones estándar incorporadas \n",
    "# para trabajar con (valores producidos) columnas.\n",
    "import pyspark.sql.functions as func\n",
    "\n",
    "from datetime import datetime"
   ]
  },
  {
   "cell_type": "code",
   "execution_count": 5,
   "metadata": {},
   "outputs": [],
   "source": [
    "# create a new spark session, que sera la base para nuestra aplicacion\n",
    "\n",
    "spark = SparkSession.builder\\\n",
    "                    .appName(\"Test\")\\\n",
    "                    .getOrCreate()\n",
    "\n",
    "#spark sera el punto de entrada para la aplicacion"
   ]
  },
  {
   "cell_type": "code",
   "execution_count": 6,
   "metadata": {},
   "outputs": [
    {
     "data": {
      "text/html": [
       "\n",
       "            <div>\n",
       "                <p><b>SparkSession - in-memory</b></p>\n",
       "                \n",
       "        <div>\n",
       "            <p><b>SparkContext</b></p>\n",
       "\n",
       "            <p><a href=\"http://10.164.4.12:4040\">Spark UI</a></p>\n",
       "\n",
       "            <dl>\n",
       "              <dt>Version</dt>\n",
       "                <dd><code>v2.4.4</code></dd>\n",
       "              <dt>Master</dt>\n",
       "                <dd><code>local[*]</code></dd>\n",
       "              <dt>AppName</dt>\n",
       "                <dd><code>Test</code></dd>\n",
       "            </dl>\n",
       "        </div>\n",
       "        \n",
       "            </div>\n",
       "        "
      ],
      "text/plain": [
       "<pyspark.sql.session.SparkSession at 0x1141edac8>"
      ]
     },
     "execution_count": 6,
     "metadata": {},
     "output_type": "execute_result"
    }
   ],
   "source": [
    "spark"
   ]
  },
  {
   "cell_type": "code",
   "execution_count": 35,
   "metadata": {},
   "outputs": [
    {
     "name": "stdout",
     "output_type": "stream",
     "text": [
      "IBRD_Statement_Of_Loans_-_Historical_Data.csv\r\n",
      "\u001b[31mtrain.csv\u001b[m\u001b[m*\r\n"
     ]
    }
   ],
   "source": [
    "ls data/"
   ]
  },
  {
   "cell_type": "markdown",
   "metadata": {},
   "source": [
    "# Read csv"
   ]
  },
  {
   "cell_type": "code",
   "execution_count": 8,
   "metadata": {},
   "outputs": [],
   "source": [
    "df = spark.read.format(\"csv\").option(\"header\", \"true\").load(\"data/train.csv\")"
   ]
  },
  {
   "cell_type": "code",
   "execution_count": 9,
   "metadata": {},
   "outputs": [
    {
     "name": "stdout",
     "output_type": "stream",
     "text": [
      "root\n",
      " |-- PassengerId: string (nullable = true)\n",
      " |-- Survived: string (nullable = true)\n",
      " |-- Pclass: string (nullable = true)\n",
      " |-- Name: string (nullable = true)\n",
      " |-- Sex: string (nullable = true)\n",
      " |-- Age: string (nullable = true)\n",
      " |-- SibSp: string (nullable = true)\n",
      " |-- Parch: string (nullable = true)\n",
      " |-- Ticket: string (nullable = true)\n",
      " |-- Fare: string (nullable = true)\n",
      " |-- Cabin: string (nullable = true)\n",
      " |-- Embarked: string (nullable = true)\n",
      "\n"
     ]
    }
   ],
   "source": [
    "df.printSchema()"
   ]
  },
  {
   "cell_type": "code",
   "execution_count": 10,
   "metadata": {},
   "outputs": [],
   "source": [
    "df = spark.read.format(\"csv\").option(\"header\", \"true\").option(\"inferSchema\", \"true\").load(\"data/train.csv\")"
   ]
  },
  {
   "cell_type": "code",
   "execution_count": 11,
   "metadata": {},
   "outputs": [
    {
     "name": "stdout",
     "output_type": "stream",
     "text": [
      "root\n",
      " |-- PassengerId: integer (nullable = true)\n",
      " |-- Survived: integer (nullable = true)\n",
      " |-- Pclass: integer (nullable = true)\n",
      " |-- Name: string (nullable = true)\n",
      " |-- Sex: string (nullable = true)\n",
      " |-- Age: double (nullable = true)\n",
      " |-- SibSp: integer (nullable = true)\n",
      " |-- Parch: integer (nullable = true)\n",
      " |-- Ticket: string (nullable = true)\n",
      " |-- Fare: double (nullable = true)\n",
      " |-- Cabin: string (nullable = true)\n",
      " |-- Embarked: string (nullable = true)\n",
      "\n"
     ]
    }
   ],
   "source": [
    "df.printSchema()"
   ]
  },
  {
   "cell_type": "code",
   "execution_count": 12,
   "metadata": {},
   "outputs": [
    {
     "name": "stdout",
     "output_type": "stream",
     "text": [
      "+-----------+--------+------+--------------------+------+----+-----+-----+----------------+-------+-----+--------+\n",
      "|PassengerId|Survived|Pclass|                Name|   Sex| Age|SibSp|Parch|          Ticket|   Fare|Cabin|Embarked|\n",
      "+-----------+--------+------+--------------------+------+----+-----+-----+----------------+-------+-----+--------+\n",
      "|          1|       0|     3|Braund, Mr. Owen ...|  male|22.0|    1|    0|       A/5 21171|   7.25| null|       S|\n",
      "|          2|       1|     1|Cumings, Mrs. Joh...|female|38.0|    1|    0|        PC 17599|71.2833|  C85|       C|\n",
      "|          3|       1|     3|Heikkinen, Miss. ...|female|26.0|    0|    0|STON/O2. 3101282|  7.925| null|       S|\n",
      "|          4|       1|     1|Futrelle, Mrs. Ja...|female|35.0|    1|    0|          113803|   53.1| C123|       S|\n",
      "|          5|       0|     3|Allen, Mr. Willia...|  male|35.0|    0|    0|          373450|   8.05| null|       S|\n",
      "|          6|       0|     3|    Moran, Mr. James|  male|null|    0|    0|          330877| 8.4583| null|       Q|\n",
      "|          7|       0|     1|McCarthy, Mr. Tim...|  male|54.0|    0|    0|           17463|51.8625|  E46|       S|\n",
      "|          8|       0|     3|Palsson, Master. ...|  male| 2.0|    3|    1|          349909| 21.075| null|       S|\n",
      "|          9|       1|     3|Johnson, Mrs. Osc...|female|27.0|    0|    2|          347742|11.1333| null|       S|\n",
      "|         10|       1|     2|Nasser, Mrs. Nich...|female|14.0|    1|    0|          237736|30.0708| null|       C|\n",
      "|         11|       1|     3|Sandstrom, Miss. ...|female| 4.0|    1|    1|         PP 9549|   16.7|   G6|       S|\n",
      "|         12|       1|     1|Bonnell, Miss. El...|female|58.0|    0|    0|          113783|  26.55| C103|       S|\n",
      "|         13|       0|     3|Saundercock, Mr. ...|  male|20.0|    0|    0|       A/5. 2151|   8.05| null|       S|\n",
      "|         14|       0|     3|Andersson, Mr. An...|  male|39.0|    1|    5|          347082| 31.275| null|       S|\n",
      "|         15|       0|     3|Vestrom, Miss. Hu...|female|14.0|    0|    0|          350406| 7.8542| null|       S|\n",
      "|         16|       1|     2|Hewlett, Mrs. (Ma...|female|55.0|    0|    0|          248706|   16.0| null|       S|\n",
      "|         17|       0|     3|Rice, Master. Eugene|  male| 2.0|    4|    1|          382652| 29.125| null|       Q|\n",
      "|         18|       1|     2|Williams, Mr. Cha...|  male|null|    0|    0|          244373|   13.0| null|       S|\n",
      "|         19|       0|     3|Vander Planke, Mr...|female|31.0|    1|    0|          345763|   18.0| null|       S|\n",
      "|         20|       1|     3|Masselmani, Mrs. ...|female|null|    0|    0|            2649|  7.225| null|       C|\n",
      "+-----------+--------+------+--------------------+------+----+-----+-----+----------------+-------+-----+--------+\n",
      "only showing top 20 rows\n",
      "\n"
     ]
    }
   ],
   "source": [
    "df.show()"
   ]
  },
  {
   "cell_type": "markdown",
   "metadata": {},
   "source": [
    "### url to dowload the data\n",
    "https://finances.worldbank.org/Loans-and-Credits/IBRD-Statement-Of-Loans-Historical-Data/zucq-nrc3"
   ]
  },
  {
   "cell_type": "code",
   "execution_count": 37,
   "metadata": {},
   "outputs": [],
   "source": [
    "df_big = spark.read\\\n",
    "            .format(\"csv\")\\\n",
    "            .option(\"header\", \"true\")\\\n",
    "            .load(\"data/IBRD_Statement_Of_Loans_-_Historical_Data.csv\")"
   ]
  },
  {
   "cell_type": "markdown",
   "metadata": {},
   "source": [
    "# Basic Spark Methods"
   ]
  },
  {
   "cell_type": "code",
   "execution_count": 38,
   "metadata": {},
   "outputs": [
    {
     "data": {
      "text/plain": [
       "['End of Period',\n",
       " 'Loan Number',\n",
       " 'Region',\n",
       " 'Country Code',\n",
       " 'Country',\n",
       " 'Borrower',\n",
       " 'Guarantor Country Code',\n",
       " 'Guarantor',\n",
       " 'Loan Type',\n",
       " 'Loan Status',\n",
       " 'Interest Rate',\n",
       " 'Currency of Commitment',\n",
       " 'Project ID',\n",
       " 'Project Name ',\n",
       " 'Original Principal Amount',\n",
       " 'Cancelled Amount',\n",
       " 'Undisbursed Amount',\n",
       " 'Disbursed Amount',\n",
       " 'Repaid to IBRD',\n",
       " 'Due to IBRD',\n",
       " 'Exchange Adjustment',\n",
       " \"Borrower's Obligation\",\n",
       " 'Sold 3rd Party',\n",
       " 'Repaid 3rd Party',\n",
       " 'Due 3rd Party',\n",
       " 'Loans Held',\n",
       " 'First Repayment Date',\n",
       " 'Last Repayment Date',\n",
       " 'Agreement Signing Date',\n",
       " 'Board Approval Date',\n",
       " 'Effective Date (Most Recent)',\n",
       " 'Closed Date (Most Recent)',\n",
       " 'Last Disbursement Date']"
      ]
     },
     "execution_count": 38,
     "metadata": {},
     "output_type": "execute_result"
    }
   ],
   "source": [
    "#we can use the columns attribute just like with pandas\n",
    "df_big.columns"
   ]
  },
  {
   "cell_type": "code",
   "execution_count": 39,
   "metadata": {},
   "outputs": [
    {
     "data": {
      "text/plain": [
       "872665"
      ]
     },
     "execution_count": 39,
     "metadata": {},
     "output_type": "execute_result"
    }
   ],
   "source": [
    "# number of rows using the .count()\n",
    "df_big.count()"
   ]
  },
  {
   "cell_type": "code",
   "execution_count": 40,
   "metadata": {},
   "outputs": [
    {
     "name": "stdout",
     "output_type": "stream",
     "text": [
      "+--------------------+-----------+--------------------+------------+---------+--------------------+----------------------+---------+---------+-----------+-------------+----------------------+----------+--------------------+-------------------------+----------------+------------------+----------------+--------------+-----------+-------------------+---------------------+--------------+----------------+-------------+----------+--------------------+--------------------+----------------------+--------------------+----------------------------+-------------------------+----------------------+\n",
      "|       End of Period|Loan Number|              Region|Country Code|  Country|            Borrower|Guarantor Country Code|Guarantor|Loan Type|Loan Status|Interest Rate|Currency of Commitment|Project ID|       Project Name |Original Principal Amount|Cancelled Amount|Undisbursed Amount|Disbursed Amount|Repaid to IBRD|Due to IBRD|Exchange Adjustment|Borrower's Obligation|Sold 3rd Party|Repaid 3rd Party|Due 3rd Party|Loans Held|First Repayment Date| Last Repayment Date|Agreement Signing Date| Board Approval Date|Effective Date (Most Recent)|Closed Date (Most Recent)|Last Disbursement Date|\n",
      "+--------------------+-----------+--------------------+------------+---------+--------------------+----------------------+---------+---------+-----------+-------------+----------------------+----------+--------------------+-------------------------+----------------+------------------+----------------+--------------+-----------+-------------------+---------------------+--------------+----------------+-------------+----------+--------------------+--------------------+----------------------+--------------------+----------------------------+-------------------------+----------------------+\n",
      "|01/31/2015 12:00:...|  IBRD71750|Latin America and...|          GT|Guatemala|Ministerio de Fin...|                    GT|Guatemala|      FSL| Terminated|            0|                  null|   P064883|GT WESTERN ALTIPL...|                 32800000|        32800000|                 0|               0|             0|          0|                  0|                    0|             0|               0|            0|         0|                null|                null|                  null|05/27/2003 12:00:...|        05/27/2003 12:00:...|     12/23/2004 12:00:...|                  null|\n",
      "|01/31/2015 12:00:...|  IBRDM2405|               Other|          1W|    World|INTERNATIONAL FIN...|                    1W|    World| IFC LOAN|     Repaid|         5.56|                  null|      null|                null|                  5000000|               0|                 0|         5000000|       5000000|          0|                  0|                    0|             0|               0|            0|         0|12/15/1999 12:00:...|06/15/2006 12:00:...|  01/12/1998 12:00:...|01/12/1998 12:00:...|        01/12/1998 12:00:...|     06/30/1998 12:00:...|                  null|\n",
      "|01/31/2015 12:00:...|  IBRDM2406|               Other|          1W|    World|INTERNATIONAL FIN...|                    1W|    World| IFC LOAN|     Repaid|         5.58|                  null|      null|                null|                  4000000|               0|                 0|         4000000|       4000000|          0|                  0|                    0|             0|               0|            0|         0|07/15/2000 12:00:...|01/15/2009 12:00:...|  01/12/1998 12:00:...|01/12/1998 12:00:...|        01/12/1998 12:00:...|     06/30/1998 12:00:...|                  null|\n",
      "|01/31/2015 12:00:...|  IBRD04720|               Other|          1W|    World|INTERNATIONAL FIN...|                    1W|    World| IFC LOAN|     Repaid|            0|                  null|      null|                null|                        0|               0|                 0|               0|             0|          0|                  0|                    0|             0|               0|            0|         0|04/01/1970 12:00:...|04/01/1970 12:00:...|  10/28/1966 12:00:...|10/18/1966 12:00:...|        10/28/1966 12:00:...|     06/30/1972 12:00:...|                  null|\n",
      "|01/31/2015 12:00:...|  IBRDM1105|               Other|          1W|    World|INTERNATIONAL FIN...|                    1W|    World| IFC LOAN|  Cancelled|        10.65|                  null|      null|                null|                  1200000|         1200000|                 0|               0|             0|          0|                  0|                    0|             0|               0|            0|         0|11/15/1989 12:00:...|05/15/2000 12:00:...|  11/19/1985 12:00:...|11/19/1985 12:00:...|        11/19/1985 12:00:...|     09/15/1991 12:00:...|                  null|\n",
      "+--------------------+-----------+--------------------+------------+---------+--------------------+----------------------+---------+---------+-----------+-------------+----------------------+----------+--------------------+-------------------------+----------------+------------------+----------------+--------------+-----------+-------------------+---------------------+--------------+----------------+-------------+----------+--------------------+--------------------+----------------------+--------------------+----------------------------+-------------------------+----------------------+\n",
      "only showing top 5 rows\n",
      "\n"
     ]
    }
   ],
   "source": [
    "#show first 5 rows\n",
    "df_big.show(5)"
   ]
  },
  {
   "cell_type": "code",
   "execution_count": 42,
   "metadata": {},
   "outputs": [
    {
     "data": {
      "text/plain": [
       "Row(End of Period='01/31/2015 12:00:00 AM', Loan Number='IBRD71750', Region='Latin America and Caribbean', Country Code='GT', Country='Guatemala', Borrower='Ministerio de Finanzas P?blicas', Guarantor Country Code='GT', Guarantor='Guatemala', Loan Type='FSL', Loan Status='Terminated', Interest Rate='0', Currency of Commitment=None, Project ID='P064883', Project Name ='GT WESTERN ALTIPLANO NRM', Original Principal Amount='32800000', Cancelled Amount='32800000', Undisbursed Amount='0', Disbursed Amount='0', Repaid to IBRD='0', Due to IBRD='0', Exchange Adjustment='0', Borrower's Obligation='0', Sold 3rd Party='0', Repaid 3rd Party='0', Due 3rd Party='0', Loans Held='0', First Repayment Date=None, Last Repayment Date=None, Agreement Signing Date=None, Board Approval Date='05/27/2003 12:00:00 AM', Effective Date (Most Recent)='05/27/2003 12:00:00 AM', Closed Date (Most Recent)='12/23/2004 12:00:00 AM', Last Disbursement Date=None)"
      ]
     },
     "execution_count": 42,
     "metadata": {},
     "output_type": "execute_result"
    }
   ],
   "source": [
    "#show first row\n",
    "df_big.head()"
   ]
  },
  {
   "cell_type": "code",
   "execution_count": 43,
   "metadata": {},
   "outputs": [
    {
     "data": {
      "text/plain": [
       "pyspark.sql.types.Row"
      ]
     },
     "execution_count": 43,
     "metadata": {},
     "output_type": "execute_result"
    }
   ],
   "source": [
    "type(df_big.head())"
   ]
  },
  {
   "cell_type": "code",
   "execution_count": 44,
   "metadata": {},
   "outputs": [
    {
     "data": {
      "text/plain": [
       "DataFrame[summary: string, End of Period: string, Loan Number: string, Region: string, Country Code: string, Country: string, Borrower: string, Guarantor Country Code: string, Guarantor: string, Loan Type: string, Loan Status: string, Interest Rate: string, Currency of Commitment: string, Project ID: string, Project Name : string, Original Principal Amount: string, Cancelled Amount: string, Undisbursed Amount: string, Disbursed Amount: string, Repaid to IBRD: string, Due to IBRD: string, Exchange Adjustment: string, Borrower's Obligation: string, Sold 3rd Party: string, Repaid 3rd Party: string, Due 3rd Party: string, Loans Held: string, First Repayment Date: string, Last Repayment Date: string, Agreement Signing Date: string, Board Approval Date: string, Effective Date (Most Recent): string, Closed Date (Most Recent): string, Last Disbursement Date: string]"
      ]
     },
     "execution_count": 44,
     "metadata": {},
     "output_type": "execute_result"
    }
   ],
   "source": [
    "df_big.describe()"
   ]
  },
  {
   "cell_type": "code",
   "execution_count": 45,
   "metadata": {},
   "outputs": [
    {
     "name": "stdout",
     "output_type": "stream",
     "text": [
      "+-------+--------------------+-----------+----------+------------+--------+--------------------+----------------------+---------+----------+-----------+------------------+----------------------+-----------------+------------------+-------------------------+-------------------+-------------------+--------------------+-------------------+-------------------+-------------------+---------------------+------------------+------------------+--------------------+--------------------+--------------------+--------------------+----------------------+--------------------+----------------------------+-------------------------+----------------------+\n",
      "|summary|       End of Period|Loan Number|    Region|Country Code| Country|            Borrower|Guarantor Country Code|Guarantor| Loan Type|Loan Status|     Interest Rate|Currency of Commitment|       Project ID|     Project Name |Original Principal Amount|   Cancelled Amount| Undisbursed Amount|    Disbursed Amount|     Repaid to IBRD|        Due to IBRD|Exchange Adjustment|Borrower's Obligation|    Sold 3rd Party|  Repaid 3rd Party|       Due 3rd Party|          Loans Held|First Repayment Date| Last Repayment Date|Agreement Signing Date| Board Approval Date|Effective Date (Most Recent)|Closed Date (Most Recent)|Last Disbursement Date|\n",
      "+-------+--------------------+-----------+----------+------------+--------+--------------------+----------------------+---------+----------+-----------+------------------+----------------------+-----------------+------------------+-------------------------+-------------------+-------------------+--------------------+-------------------+-------------------+-------------------+---------------------+------------------+------------------+--------------------+--------------------+--------------------+--------------------+----------------------+--------------------+----------------------------+-------------------------+----------------------+\n",
      "|  count|              872665|     872665|    872665|      872665|  872665|              866652|                838882|   811286|    872617|     872617|            845357|                    48|           838668|            671116|                   872617|             872617|             872617|              872617|             872617|             872617|             872617|               872617|            872617|            872617|              872617|              872617|              868381|              868485|                861492|              872569|                      867346|                   871759|                490437|\n",
      "|   mean|                null|       null|      null|        null|    null|  0.6070833333333335|                  null|     null|      null|  8000000.0|216.74088387326998|                   0.0|3636810.020000001|4906399.1206249995|      7.737395061828555E7|  9740536.202053983|  7689367.030819428|5.9985045249632806E7|4.006102223951849E7|1.962829195969634E7|-245993.83181042623| 1.9373673581302736E7| 443260.9547245531| 443247.1273399795|                 0.0|2.7301218722959436E7|   53579.66933333334|                null|                  null|                null|                        null|                     null|                  null|\n",
      "| stddev|                null|       null|      null|        null|    null|  0.4057142812549054|                  null|     null|      null|        0.0|28138.860389781774|                   0.0|              0.0| 106784.8217486893|      1.492630061211414E8|4.484077411325027E7|5.374113120108643E7|1.2851052026539195E8|8.848724075173005E7|9.444835498941898E7|  9447673.926619971|  9.173755157222892E7|3871220.9480564264|3871219.5476926216|                 0.0| 1.144940293696152E8|  273815.10520057834|                null|                  null|                null|                        null|                     null|                  null|\n",
      "|    min|01/31/2012 12:00:...|      GFMDR|    AFRICA|          1W| Repaid |         #MULTIVALUE|                    1W|  Albania| \tIFC LOAN|  Approved |                 0|                     0|       3636810.02|          COAL IAP|              STAGE II\"\"\"|                  0|              -0.01|                   0|                  0|              -0.01|              -0.01|                -0.01|                 0|                 0|                   0|               -0.01|                   0|01/01/1934 12:00:...|  01/01/2008 12:00:...|01/01/2008 12:00:...|        01/01/2007 12:00:...|     01/01/1950 12:00:...|  01/01/1998 12:00:...|\n",
      "|    max|      ka banka d.d.\"|  IBRDS0200|South Asia|          ZW|Zimbabwe|Zimbabwe Electric...|                    ZW|   jordan|SNGL CRNCY| Terminated|              9.97|                     0|          P999186|     fOC TRNG SCTR|               99963871.4|          9999937.5|          9999937.5|         99999972.31|        99999999.99|           99990000|         9998114.98|            999975000|            997000|            997000|11/18/1997 12:00:...|          9999515.72|           2045864.8|12/15/2048 12:00:...|  12/31/2008 12:00:...|12/30/2013 12:00:...|        12/31/2019 12:00:...|     12/31/2033 12:00:...|  12/31/2019 12:00:...|\n",
      "+-------+--------------------+-----------+----------+------------+--------+--------------------+----------------------+---------+----------+-----------+------------------+----------------------+-----------------+------------------+-------------------------+-------------------+-------------------+--------------------+-------------------+-------------------+-------------------+---------------------+------------------+------------------+--------------------+--------------------+--------------------+--------------------+----------------------+--------------------+----------------------------+-------------------------+----------------------+\n",
      "\n"
     ]
    }
   ],
   "source": [
    "df_big.describe().show()"
   ]
  },
  {
   "cell_type": "code",
   "execution_count": null,
   "metadata": {},
   "outputs": [],
   "source": []
  },
  {
   "cell_type": "code",
   "execution_count": 79,
   "metadata": {},
   "outputs": [],
   "source": [
    "pdf_describe = df_big.describe().toPandas()"
   ]
  },
  {
   "cell_type": "code",
   "execution_count": 80,
   "metadata": {},
   "outputs": [
    {
     "data": {
      "text/html": [
       "<div>\n",
       "<style scoped>\n",
       "    .dataframe tbody tr th:only-of-type {\n",
       "        vertical-align: middle;\n",
       "    }\n",
       "\n",
       "    .dataframe tbody tr th {\n",
       "        vertical-align: top;\n",
       "    }\n",
       "\n",
       "    .dataframe thead th {\n",
       "        text-align: right;\n",
       "    }\n",
       "</style>\n",
       "<table border=\"1\" class=\"dataframe\">\n",
       "  <thead>\n",
       "    <tr style=\"text-align: right;\">\n",
       "      <th></th>\n",
       "      <th>summary</th>\n",
       "      <th>End of Period</th>\n",
       "      <th>Loan Number</th>\n",
       "      <th>Region</th>\n",
       "      <th>Country Code</th>\n",
       "      <th>Country</th>\n",
       "      <th>Borrower</th>\n",
       "      <th>Guarantor Country Code</th>\n",
       "      <th>Guarantor</th>\n",
       "      <th>Loan Type</th>\n",
       "      <th>...</th>\n",
       "      <th>Repaid 3rd Party</th>\n",
       "      <th>Due 3rd Party</th>\n",
       "      <th>Loans Held</th>\n",
       "      <th>First Repayment Date</th>\n",
       "      <th>Last Repayment Date</th>\n",
       "      <th>Agreement Signing Date</th>\n",
       "      <th>Board Approval Date</th>\n",
       "      <th>Effective Date (Most Recent)</th>\n",
       "      <th>Closed Date (Most Recent)</th>\n",
       "      <th>Last Disbursement Date</th>\n",
       "    </tr>\n",
       "  </thead>\n",
       "  <tbody>\n",
       "    <tr>\n",
       "      <th>0</th>\n",
       "      <td>count</td>\n",
       "      <td>872665</td>\n",
       "      <td>872665</td>\n",
       "      <td>872665</td>\n",
       "      <td>872665</td>\n",
       "      <td>872665</td>\n",
       "      <td>866652</td>\n",
       "      <td>838882</td>\n",
       "      <td>811286</td>\n",
       "      <td>872617</td>\n",
       "      <td>...</td>\n",
       "      <td>872617</td>\n",
       "      <td>872617</td>\n",
       "      <td>872617</td>\n",
       "      <td>868381</td>\n",
       "      <td>868485</td>\n",
       "      <td>861492</td>\n",
       "      <td>872569</td>\n",
       "      <td>867346</td>\n",
       "      <td>871759</td>\n",
       "      <td>490437</td>\n",
       "    </tr>\n",
       "    <tr>\n",
       "      <th>1</th>\n",
       "      <td>mean</td>\n",
       "      <td>None</td>\n",
       "      <td>None</td>\n",
       "      <td>None</td>\n",
       "      <td>None</td>\n",
       "      <td>None</td>\n",
       "      <td>0.6070833333333335</td>\n",
       "      <td>None</td>\n",
       "      <td>None</td>\n",
       "      <td>None</td>\n",
       "      <td>...</td>\n",
       "      <td>443247.1273399795</td>\n",
       "      <td>0.0</td>\n",
       "      <td>2.7301218722959436E7</td>\n",
       "      <td>53579.66933333334</td>\n",
       "      <td>None</td>\n",
       "      <td>None</td>\n",
       "      <td>None</td>\n",
       "      <td>None</td>\n",
       "      <td>None</td>\n",
       "      <td>None</td>\n",
       "    </tr>\n",
       "    <tr>\n",
       "      <th>2</th>\n",
       "      <td>stddev</td>\n",
       "      <td>None</td>\n",
       "      <td>None</td>\n",
       "      <td>None</td>\n",
       "      <td>None</td>\n",
       "      <td>None</td>\n",
       "      <td>0.4057142812549054</td>\n",
       "      <td>None</td>\n",
       "      <td>None</td>\n",
       "      <td>None</td>\n",
       "      <td>...</td>\n",
       "      <td>3871219.5476926216</td>\n",
       "      <td>0.0</td>\n",
       "      <td>1.144940293696152E8</td>\n",
       "      <td>273815.10520057834</td>\n",
       "      <td>None</td>\n",
       "      <td>None</td>\n",
       "      <td>None</td>\n",
       "      <td>None</td>\n",
       "      <td>None</td>\n",
       "      <td>None</td>\n",
       "    </tr>\n",
       "    <tr>\n",
       "      <th>3</th>\n",
       "      <td>min</td>\n",
       "      <td>01/31/2012 12:00:00 AM</td>\n",
       "      <td>GFMDR</td>\n",
       "      <td>AFRICA</td>\n",
       "      <td>1W</td>\n",
       "      <td>Repaid</td>\n",
       "      <td>#MULTIVALUE</td>\n",
       "      <td>1W</td>\n",
       "      <td>Albania</td>\n",
       "      <td>\\tIFC LOAN</td>\n",
       "      <td>...</td>\n",
       "      <td>0</td>\n",
       "      <td>0</td>\n",
       "      <td>-0.01</td>\n",
       "      <td>0</td>\n",
       "      <td>01/01/1934 12:00:00 AM</td>\n",
       "      <td>01/01/2008 12:00:00 AM</td>\n",
       "      <td>01/01/2008 12:00:00 AM</td>\n",
       "      <td>01/01/2007 12:00:00 AM</td>\n",
       "      <td>01/01/1950 12:00:00 AM</td>\n",
       "      <td>01/01/1998 12:00:00 AM</td>\n",
       "    </tr>\n",
       "    <tr>\n",
       "      <th>4</th>\n",
       "      <td>max</td>\n",
       "      <td>ka banka d.d.\"</td>\n",
       "      <td>IBRDS0200</td>\n",
       "      <td>South Asia</td>\n",
       "      <td>ZW</td>\n",
       "      <td>Zimbabwe</td>\n",
       "      <td>Zimbabwe Electricity Supply Commission</td>\n",
       "      <td>ZW</td>\n",
       "      <td>jordan</td>\n",
       "      <td>SNGL CRNCY</td>\n",
       "      <td>...</td>\n",
       "      <td>997000</td>\n",
       "      <td>11/18/1997 12:00:00 AM</td>\n",
       "      <td>9999515.72</td>\n",
       "      <td>2045864.8</td>\n",
       "      <td>12/15/2048 12:00:00 AM</td>\n",
       "      <td>12/31/2008 12:00:00 AM</td>\n",
       "      <td>12/30/2013 12:00:00 AM</td>\n",
       "      <td>12/31/2019 12:00:00 AM</td>\n",
       "      <td>12/31/2033 12:00:00 AM</td>\n",
       "      <td>12/31/2019 12:00:00 AM</td>\n",
       "    </tr>\n",
       "  </tbody>\n",
       "</table>\n",
       "<p>5 rows × 34 columns</p>\n",
       "</div>"
      ],
      "text/plain": [
       "  summary           End of Period Loan Number      Region Country Code  \\\n",
       "0   count                  872665      872665      872665       872665   \n",
       "1    mean                    None        None        None         None   \n",
       "2  stddev                    None        None        None         None   \n",
       "3     min  01/31/2012 12:00:00 AM       GFMDR      AFRICA           1W   \n",
       "4     max          ka banka d.d.\"   IBRDS0200  South Asia           ZW   \n",
       "\n",
       "    Country                                Borrower Guarantor Country Code  \\\n",
       "0    872665                                  866652                 838882   \n",
       "1      None                      0.6070833333333335                   None   \n",
       "2      None                      0.4057142812549054                   None   \n",
       "3   Repaid                              #MULTIVALUE                     1W   \n",
       "4  Zimbabwe  Zimbabwe Electricity Supply Commission                     ZW   \n",
       "\n",
       "  Guarantor   Loan Type  ...    Repaid 3rd Party           Due 3rd Party  \\\n",
       "0    811286      872617  ...              872617                  872617   \n",
       "1      None        None  ...   443247.1273399795                     0.0   \n",
       "2      None        None  ...  3871219.5476926216                     0.0   \n",
       "3   Albania  \\tIFC LOAN  ...                   0                       0   \n",
       "4    jordan  SNGL CRNCY  ...              997000  11/18/1997 12:00:00 AM   \n",
       "\n",
       "             Loans Held First Repayment Date     Last Repayment Date  \\\n",
       "0                872617               868381                  868485   \n",
       "1  2.7301218722959436E7    53579.66933333334                    None   \n",
       "2   1.144940293696152E8   273815.10520057834                    None   \n",
       "3                 -0.01                    0  01/01/1934 12:00:00 AM   \n",
       "4            9999515.72            2045864.8  12/15/2048 12:00:00 AM   \n",
       "\n",
       "   Agreement Signing Date     Board Approval Date  \\\n",
       "0                  861492                  872569   \n",
       "1                    None                    None   \n",
       "2                    None                    None   \n",
       "3  01/01/2008 12:00:00 AM  01/01/2008 12:00:00 AM   \n",
       "4  12/31/2008 12:00:00 AM  12/30/2013 12:00:00 AM   \n",
       "\n",
       "  Effective Date (Most Recent) Closed Date (Most Recent)  \\\n",
       "0                       867346                    871759   \n",
       "1                         None                      None   \n",
       "2                         None                      None   \n",
       "3       01/01/2007 12:00:00 AM    01/01/1950 12:00:00 AM   \n",
       "4       12/31/2019 12:00:00 AM    12/31/2033 12:00:00 AM   \n",
       "\n",
       "   Last Disbursement Date  \n",
       "0                  490437  \n",
       "1                    None  \n",
       "2                    None  \n",
       "3  01/01/1998 12:00:00 AM  \n",
       "4  12/31/2019 12:00:00 AM  \n",
       "\n",
       "[5 rows x 34 columns]"
      ]
     },
     "execution_count": 80,
     "metadata": {},
     "output_type": "execute_result"
    }
   ],
   "source": [
    "pdf_describe"
   ]
  },
  {
   "cell_type": "code",
   "execution_count": 82,
   "metadata": {},
   "outputs": [
    {
     "data": {
      "text/plain": [
       "0                845357\n",
       "1    216.74088387326998\n",
       "2    28138.860389781774\n",
       "3                     0\n",
       "4                  9.97\n",
       "Name: Interest Rate, dtype: object"
      ]
     },
     "execution_count": 82,
     "metadata": {},
     "output_type": "execute_result"
    }
   ],
   "source": [
    "pdf_describe[\"Interest Rate\"]"
   ]
  },
  {
   "cell_type": "code",
   "execution_count": 77,
   "metadata": {},
   "outputs": [
    {
     "name": "stdout",
     "output_type": "stream",
     "text": [
      "+-------------+-----+\n",
      "|      Country|count|\n",
      "+-------------+-----+\n",
      "|         Chad|  104|\n",
      "|     Paraguay| 6026|\n",
      "|        World|33907|\n",
      "|      Senegal| 2414|\n",
      "|   Cabo Verde|   78|\n",
      "|Taiwan, China| 1470|\n",
      "|       Guyana| 1260|\n",
      "|  Philippines|27462|\n",
      "|     Malaysia|13319|\n",
      "|    Singapore| 1470|\n",
      "|         Fiji| 1526|\n",
      "|       Turkey|30820|\n",
      "|       Malawi| 1050|\n",
      "|         Iraq| 1088|\n",
      "|       Jordan| 8571|\n",
      "|        Sudan|  840|\n",
      "|       France|  106|\n",
      "|       Greece| 1785|\n",
      "|       Kosovo|   93|\n",
      "|    Sri Lanka| 1492|\n",
      "+-------------+-----+\n",
      "only showing top 20 rows\n",
      "\n"
     ]
    }
   ],
   "source": [
    "df_big.groupBy(\"Country\").count().show()"
   ]
  },
  {
   "cell_type": "code",
   "execution_count": 83,
   "metadata": {},
   "outputs": [
    {
     "name": "stdout",
     "output_type": "stream",
     "text": [
      "+--------------+-----------+-------+------------+--------+--------+----------------------+---------+-------------------+-----------+-------------+----------------------+----------+-------------+-------------------------+----------------+------------------+----------------+--------------+-----------+-------------------+---------------------+--------------------+--------------------+--------------------+--------------------+--------------------+--------------------+----------------------+-------------------+----------------------------+-------------------------+----------------------+\n",
      "| End of Period|Loan Number| Region|Country Code| Country|Borrower|Guarantor Country Code|Guarantor|          Loan Type|Loan Status|Interest Rate|Currency of Commitment|Project ID|Project Name |Original Principal Amount|Cancelled Amount|Undisbursed Amount|Disbursed Amount|Repaid to IBRD|Due to IBRD|Exchange Adjustment|Borrower's Obligation|      Sold 3rd Party|    Repaid 3rd Party|       Due 3rd Party|          Loans Held|First Repayment Date| Last Repayment Date|Agreement Signing Date|Board Approval Date|Effective Date (Most Recent)|Closed Date (Most Recent)|Last Disbursement Date|\n",
      "+--------------+-----------+-------+------------+--------+--------+----------------------+---------+-------------------+-----------+-------------+----------------------+----------+-------------+-------------------------+----------------+------------------+----------------+--------------+-----------+-------------------+---------------------+--------------------+--------------------+--------------------+--------------------+--------------------+--------------------+----------------------+-------------------+----------------------------+-------------------------+----------------------+\n",
      "|ka banka d.d.\"|         HR|Croatia|  SNGL CRNCY|  Repaid|    0.48|                  null|  P040139|INVESTMENT RECOVERY|    8000000|   3734380.61|                     0|3636810.02|   4947874.26|                        0|               0|                 0|               0|             0|          0|                  0| 03/15/2003 12:00:...|09/15/2012 12:00:...|12/04/1997 12:00:...|11/18/1997 12:00:...|03/17/1998 12:00:...|12/31/2001 12:00:...|09/27/2001 12:00:...|                  null|               null|                        null|                     null|                  null|\n",
      "|ka banka d.d.\"|         HR|Croatia|  SNGL CRNCY|  Repaid|    0.48|                  null|  P040139|INVESTMENT RECOVERY|    8000000|   3734380.61|                     0|3636810.02|   4947874.26|                        0|               0|                 0|               0|             0|          0|                  0| 03/15/2003 12:00:...|09/15/2012 12:00:...|12/04/1997 12:00:...|11/18/1997 12:00:...|03/17/1998 12:00:...|12/31/2001 12:00:...|09/27/2001 12:00:...|                  null|               null|                        null|                     null|                  null|\n",
      "|ka banka d.d.\"|         HR|Croatia|  SNGL CRNCY|  Repaid|    0.48|                  null|  P040139|INVESTMENT RECOVERY|    8000000|   3734380.61|                     0|3636810.02|   4947874.26|                        0|               0|                 0|               0|             0|          0|                  0| 03/15/2003 12:00:...|09/15/2012 12:00:...|12/04/1997 12:00:...|11/18/1997 12:00:...|03/17/1998 12:00:...|12/31/2001 12:00:...|09/27/2001 12:00:...|                  null|               null|                        null|                     null|                  null|\n",
      "|ka banka d.d.\"|         HR|Croatia|  SNGL CRNCY|  Repaid|       0|                  null|  P040139|INVESTMENT RECOVERY|    8000000|   3734380.61|                     0|3636810.02|   4947874.26|                        0|               0|                 0|               0|             0|          0|                  0| 03/15/2003 12:00:...|09/15/2012 12:00:...|12/04/1997 12:00:...|11/18/1997 12:00:...|03/17/1998 12:00:...|12/31/2001 12:00:...|09/27/2001 12:00:...|                  null|               null|                        null|                     null|                  null|\n",
      "|ka banka d.d.\"|      GFMDR|Croatia|  SNGL CRNCY|  Repaid|    0.48|                  null|  P040139|INVESTMENT RECOVERY|    8000000|   3734380.61|                     0|3636810.02|   4947874.26|                        0|               0|                 0|               0|             0|          0|                  0| 03/15/2003 12:00:...|09/15/2012 12:00:...|12/04/1997 12:00:...|11/18/1997 12:00:...|03/17/1998 12:00:...|12/31/2001 12:00:...|09/27/2001 12:00:...|                  null|               null|                        null|                     null|                  null|\n",
      "|ka banka d.d.\"|         HR|Croatia|  SNGL CRNCY|  Repaid|    0.48|                  null|  P040139|INVESTMENT RECOVERY|    8000000|   3734380.61|                     0|3636810.02|   4947874.26|                        0|               0|                 0|               0|             0|          0|                  0| 03/15/2003 12:00:...|09/15/2012 12:00:...|12/04/1997 12:00:...|11/18/1997 12:00:...|03/17/1998 12:00:...|12/31/2001 12:00:...|09/27/2001 12:00:...|                  null|               null|                        null|                     null|                  null|\n",
      "|ka banka d.d.\"|         HR|Croatia|  SNGL CRNCY|  Repaid|    0.48|                  null|  P040139|INVESTMENT RECOVERY|    8000000|   3734380.61|                     0|3636810.02|   4947874.26|                        0|               0|                 0|               0|             0|          0|                  0| 03/15/2003 12:00:...|09/15/2012 12:00:...|12/04/1997 12:00:...|11/18/1997 12:00:...|03/17/1998 12:00:...|12/31/2001 12:00:...|09/27/2001 12:00:...|                  null|               null|                        null|                     null|                  null|\n",
      "|ka banka d.d.\"|         HR|Croatia|  SNGL CRNCY|  Repaid|    0.48|                  null|  P040139|INVESTMENT RECOVERY|    8000000|   3734380.61|                     0|3636810.02|   4947874.26|                        0|               0|                 0|               0|             0|          0|                  0| 03/15/2003 12:00:...|09/15/2012 12:00:...|12/04/1997 12:00:...|11/18/1997 12:00:...|03/17/1998 12:00:...|12/31/2001 12:00:...|09/27/2001 12:00:...|                  null|               null|                        null|                     null|                  null|\n",
      "|ka banka d.d.\"|         HR|Croatia|  SNGL CRNCY|  Repaid|    0.48|                  null|  P040139|INVESTMENT RECOVERY|    8000000|   3734380.61|                     0|3636810.02|   4947874.26|                        0|               0|                 0|               0|             0|          0|                  0| 03/15/2003 12:00:...|09/15/2012 12:00:...|12/04/1997 12:00:...|11/18/1997 12:00:...|03/17/1998 12:00:...|12/31/2001 12:00:...|09/27/2001 12:00:...|                  null|               null|                        null|                     null|                  null|\n",
      "|ka banka d.d.\"|         HR|Croatia|  SNGL CRNCY|  Repaid|    0.48|                  null|  P040139|INVESTMENT RECOVERY|    8000000|   3734380.61|                     0|3636810.02|   4947874.26|                        0|               0|                 0|               0|             0|          0|                  0| 03/15/2003 12:00:...|09/15/2012 12:00:...|12/04/1997 12:00:...|11/18/1997 12:00:...|03/17/1998 12:00:...|12/31/2001 12:00:...|09/27/2001 12:00:...|                  null|               null|                        null|                     null|                  null|\n",
      "|ka banka d.d.\"|         HR|Croatia|  SNGL CRNCY|  Repaid|    0.48|                  null|  P040139|INVESTMENT RECOVERY|    8000000|   3734380.61|                     0|3636810.02|   4947874.26|                        0|               0|                 0|               0|             0|          0|                  0| 03/15/2003 12:00:...|09/15/2012 12:00:...|12/04/1997 12:00:...|11/18/1997 12:00:...|03/17/1998 12:00:...|12/31/2001 12:00:...|09/27/2001 12:00:...|                  null|               null|                        null|                     null|                  null|\n",
      "|ka banka d.d.\"|         HR|Croatia|  SNGL CRNCY|  Repaid|    0.48|                  null|  P040139|INVESTMENT RECOVERY|    8000000|   3734380.61|                     0|3636810.02|   4947874.26|                        0|               0|                 0|               0|             0|          0|                  0| 03/15/2003 12:00:...|09/15/2012 12:00:...|12/04/1997 12:00:...|11/18/1997 12:00:...|03/17/1998 12:00:...|12/31/2001 12:00:...|09/27/2001 12:00:...|                  null|               null|                        null|                     null|                  null|\n",
      "|ka banka d.d.\"|         HR|Croatia|  SNGL CRNCY|  Repaid|    0.48|                  null|  P040139|INVESTMENT RECOVERY|    8000000|   3734380.61|                     0|3636810.02|   4947874.26|                        0|               0|                 0|               0|             0|          0|                  0| 03/15/2003 12:00:...|09/15/2012 12:00:...|12/04/1997 12:00:...|11/18/1997 12:00:...|03/17/1998 12:00:...|12/31/2001 12:00:...|09/27/2001 12:00:...|                  null|               null|                        null|                     null|                  null|\n",
      "|ka banka d.d.\"|         HR|Croatia|  SNGL CRNCY|  Repaid|    0.48|                  null|  P040139|INVESTMENT RECOVERY|    8000000|   3734380.61|                     0|3636810.02|   4947874.26|                        0|               0|                 0|               0|             0|          0|                  0| 03/15/2003 12:00:...|09/15/2012 12:00:...|12/04/1997 12:00:...|11/18/1997 12:00:...|03/17/1998 12:00:...|12/31/2001 12:00:...|09/27/2001 12:00:...|                  null|               null|                        null|                     null|                  null|\n",
      "|ka banka d.d.\"|         HR|Croatia|  SNGL CRNCY| Repaid |    0.48|                  null|  P040139|INVESTMENT RECOVERY|    8000000|   3734380.61|                     0|3636810.02|   4947874.26|                        0|               0|                 0|               0|             0|          0|                  0| 03/15/2003 12:00:...|09/15/2012 12:00:...|12/04/1997 12:00:...|11/18/1997 12:00:...|03/17/1998 12:00:...|12/31/2001 12:00:...|09/27/2001 12:00:...|                  null|               null|                        null|                     null|                  null|\n",
      "|ka banka d.d.\"|         HR|Croatia|  SNGL CRNCY| Repaid |    0.48|                  null|  P040139|INVESTMENT RECOVERY|    8000000|   3734380.61|                     0|3636810.02|   4947874.26|                        0|               0|                 0|               0|             0|          0|                  0| 03/15/2003 12:00:...|09/15/2012 12:00:...|12/04/1997 12:00:...|11/18/1997 12:00:...|03/17/1998 12:00:...|12/31/2001 12:00:...|09/27/2001 12:00:...|                  null|               null|                        null|                     null|                  null|\n",
      "|ka banka d.d.\"|         HR|Croatia|  SNGL CRNCY|  Repaid|    0.48|                  null|  P040139|INVESTMENT RECOVERY|    8000000|   3734380.61|                     0|3636810.02|   4947874.26|                        0|               0|                 0|               0|             0|          0|                  0| 03/15/2003 12:00:...|09/15/2012 12:00:...|12/04/1997 12:00:...|11/18/1997 12:00:...|03/17/1998 12:00:...|12/31/2001 12:00:...|09/27/2001 12:00:...|                  null|               null|                        null|                     null|                  null|\n",
      "|ka banka d.d.\"|         HR|Croatia|  SNGL CRNCY|  Repaid|    0.48|                  null|  P040139|INVESTMENT RECOVERY|    8000000|   3734380.61|                     0|3636810.02|   4947874.26|                        0|               0|                 0|               0|             0|          0|                  0| 03/15/2003 12:00:...|09/15/2012 12:00:...|12/04/1997 12:00:...|11/18/1997 12:00:...|03/17/1998 12:00:...|12/31/2001 12:00:...|09/27/2001 12:00:...|                  null|               null|                        null|                     null|                  null|\n",
      "|ka banka d.d.\"|         HR|Croatia|  SNGL CRNCY|  Repaid|    0.48|                  null|  P040139|INVESTMENT RECOVERY|    8000000|   3734380.61|                     0|3636810.02|   4947874.26|                        0|               0|                 0|               0|             0|          0|                  0| 03/15/2003 12:00:...|09/15/2012 12:00:...|12/04/1997 12:00:...|11/18/1997 12:00:...|03/17/1998 12:00:...|12/31/2001 12:00:...|09/27/2001 12:00:...|                  null|               null|                        null|                     null|                  null|\n",
      "|ka banka d.d.\"|         HR|Croatia|  SNGL CRNCY|  Repaid|    0.48|                  null|  P040139|INVESTMENT RECOVERY|    8000000|   3734380.61|                     0|3636810.02|   4947874.26|                        0|               0|                 0|               0|             0|          0|                  0| 03/15/2003 12:00:...|09/15/2012 12:00:...|12/04/1997 12:00:...|11/18/1997 12:00:...|03/17/1998 12:00:...|12/31/2001 12:00:...|09/27/2001 12:00:...|                  null|               null|                        null|                     null|                  null|\n",
      "+--------------+-----------+-------+------------+--------+--------+----------------------+---------+-------------------+-----------+-------------+----------------------+----------+-------------+-------------------------+----------------+------------------+----------------+--------------+-----------+-------------------+---------------------+--------------------+--------------------+--------------------+--------------------+--------------------+--------------------+----------------------+-------------------+----------------------------+-------------------------+----------------------+\n",
      "only showing top 20 rows\n",
      "\n"
     ]
    }
   ],
   "source": [
    "df_big.filter(df_big['Interest Rate'] > 216.74).show()"
   ]
  },
  {
   "cell_type": "code",
   "execution_count": 85,
   "metadata": {},
   "outputs": [
    {
     "name": "stdout",
     "output_type": "stream",
     "text": [
      "+-----------+-------------+\n",
      "|    Country|Interest Rate|\n",
      "+-----------+-------------+\n",
      "|  Guatemala|            0|\n",
      "|      World|         5.56|\n",
      "|      World|         5.58|\n",
      "|      World|            0|\n",
      "|      World|        10.65|\n",
      "|      World|        10.65|\n",
      "|     Brazil|            0|\n",
      "| Montenegro|            0|\n",
      "|Philippines|            0|\n",
      "|     Mexico|            0|\n",
      "|  Indonesia|            0|\n",
      "|  Sri Lanka|            0|\n",
      "|    Tunisia|            0|\n",
      "|    Tunisia|            0|\n",
      "| Kazakhstan|            0|\n",
      "|    Romania|            0|\n",
      "|    Morocco|            0|\n",
      "|    Croatia|            0|\n",
      "|    Croatia|            0|\n",
      "|    Moldova|            0|\n",
      "+-----------+-------------+\n",
      "only showing top 20 rows\n",
      "\n"
     ]
    }
   ],
   "source": [
    "df_big.select(\"Country\", \"Interest Rate\").show()"
   ]
  },
  {
   "cell_type": "code",
   "execution_count": 111,
   "metadata": {},
   "outputs": [
    {
     "name": "stdout",
     "output_type": "stream",
     "text": [
      "+-----------+-------------+\n",
      "|    Country|Interest Rate|\n",
      "+-----------+-------------+\n",
      "|  Guatemala|            0|\n",
      "|      World|         5.56|\n",
      "|      World|         5.58|\n",
      "|      World|            0|\n",
      "|      World|        10.65|\n",
      "|      World|        10.65|\n",
      "|     Brazil|            0|\n",
      "| Montenegro|            0|\n",
      "|Philippines|            0|\n",
      "|     Mexico|            0|\n",
      "|  Indonesia|            0|\n",
      "|  Sri Lanka|            0|\n",
      "|    Tunisia|            0|\n",
      "|    Tunisia|            0|\n",
      "| Kazakhstan|            0|\n",
      "|    Romania|            0|\n",
      "|    Morocco|            0|\n",
      "|    Croatia|            0|\n",
      "|    Croatia|            0|\n",
      "|    Moldova|            0|\n",
      "+-----------+-------------+\n",
      "only showing top 20 rows\n",
      "\n"
     ]
    }
   ],
   "source": [
    "df_big.select(func.col(\"Country\"), func.col(\"Interest Rate\")).show()"
   ]
  },
  {
   "cell_type": "code",
   "execution_count": 87,
   "metadata": {},
   "outputs": [
    {
     "name": "stdout",
     "output_type": "stream",
     "text": [
      "+-----------+-------------+\n",
      "|    Country|Interest Rate|\n",
      "+-----------+-------------+\n",
      "|  Guatemala|            0|\n",
      "|      World|         5.56|\n",
      "|      World|         5.58|\n",
      "|      World|            0|\n",
      "|      World|        10.65|\n",
      "|      World|        10.65|\n",
      "|     Brazil|            0|\n",
      "| Montenegro|            0|\n",
      "|Philippines|            0|\n",
      "|     Mexico|            0|\n",
      "|  Indonesia|            0|\n",
      "|  Sri Lanka|            0|\n",
      "|    Tunisia|            0|\n",
      "|    Tunisia|            0|\n",
      "| Kazakhstan|            0|\n",
      "|    Romania|            0|\n",
      "|    Morocco|            0|\n",
      "|    Croatia|            0|\n",
      "|    Croatia|            0|\n",
      "|    Moldova|            0|\n",
      "+-----------+-------------+\n",
      "only showing top 20 rows\n",
      "\n"
     ]
    }
   ],
   "source": [
    "df_big.select(df_big[\"Country\"], df_big[\"Interest Rate\"]).show()"
   ]
  },
  {
   "cell_type": "code",
   "execution_count": 88,
   "metadata": {},
   "outputs": [
    {
     "name": "stdout",
     "output_type": "stream",
     "text": [
      "+-----------+-------------------+\n",
      "|    Country|(Interest Rate + 1)|\n",
      "+-----------+-------------------+\n",
      "|  Guatemala|                1.0|\n",
      "|      World|               6.56|\n",
      "|      World|               6.58|\n",
      "|      World|                1.0|\n",
      "|      World|              11.65|\n",
      "|      World|              11.65|\n",
      "|     Brazil|                1.0|\n",
      "| Montenegro|                1.0|\n",
      "|Philippines|                1.0|\n",
      "|     Mexico|                1.0|\n",
      "|  Indonesia|                1.0|\n",
      "|  Sri Lanka|                1.0|\n",
      "|    Tunisia|                1.0|\n",
      "|    Tunisia|                1.0|\n",
      "| Kazakhstan|                1.0|\n",
      "|    Romania|                1.0|\n",
      "|    Morocco|                1.0|\n",
      "|    Croatia|                1.0|\n",
      "|    Croatia|                1.0|\n",
      "|    Moldova|                1.0|\n",
      "+-----------+-------------------+\n",
      "only showing top 20 rows\n",
      "\n"
     ]
    }
   ],
   "source": [
    "df_big.select(df_big[\"Country\"], df_big[\"Interest Rate\"]+1).show()"
   ]
  },
  {
   "cell_type": "code",
   "execution_count": 201,
   "metadata": {},
   "outputs": [
    {
     "name": "stdout",
     "output_type": "stream",
     "text": [
      "+-------------+----+------------------+\n",
      "|      Country| max|sum(Interest Rate)|\n",
      "+-------------+----+------------------+\n",
      "|         Chad|   3| 283.2600000000001|\n",
      "|     Paraguay| 9.6| 24698.88499999993|\n",
      "|        World|9.97|257384.97000000306|\n",
      "|      Senegal| 9.6| 19480.09999999997|\n",
      "|   Cabo Verde|   0|               0.0|\n",
      "|Taiwan, China|7.25|           8665.25|\n",
      "|       Guyana|9.25|  9626.80000000001|\n",
      "|  Philippines| 9.6|143551.30999999962|\n",
      "|     Malaysia| 9.6|  90615.4899999999|\n",
      "|    Singapore|   9|            9572.0|\n",
      "|         Fiji|9.25| 9278.989999999994|\n",
      "|       Turkey| 9.6|143272.31499999948|\n",
      "|       Malawi| 9.6| 7488.299999999984|\n",
      "|         Iraq|7.25|           4030.75|\n",
      "|       Jordan| 9.6|28721.160000000094|\n",
      "|        Sudan| 8.2| 5010.615000000002|\n",
      "|       France|4.25|            445.25|\n",
      "|       Greece|   9|12926.449999999992|\n",
      "|       Kosovo|   0|               0.0|\n",
      "|    Sri Lanka|7.22| 7600.165000000001|\n",
      "+-------------+----+------------------+\n",
      "only showing top 20 rows\n",
      "\n"
     ]
    }
   ],
   "source": [
    "df_big.groupBy(\"Country\").agg(func.max(\"Interest Rate\").alias(\"max\"), func.sum(\"Interest Rate\")).show()"
   ]
  },
  {
   "cell_type": "code",
   "execution_count": null,
   "metadata": {},
   "outputs": [],
   "source": []
  },
  {
   "cell_type": "markdown",
   "metadata": {},
   "source": [
    "## The sql function on a SparkSession enables applications to run SQL queries programmatically and returns the result as a DataFrame.\n",
    "\n"
   ]
  },
  {
   "cell_type": "code",
   "execution_count": 104,
   "metadata": {},
   "outputs": [],
   "source": [
    "df_big.select(\"Country\", \"Interest Rate\").createOrReplaceTempView(\"country_interest_rate\")"
   ]
  },
  {
   "cell_type": "code",
   "execution_count": 108,
   "metadata": {},
   "outputs": [
    {
     "name": "stdout",
     "output_type": "stream",
     "text": [
      "+-----------+-------------+\n",
      "|    Country|Interest Rate|\n",
      "+-----------+-------------+\n",
      "|  Guatemala|            0|\n",
      "|      World|         5.56|\n",
      "|      World|         5.58|\n",
      "|      World|            0|\n",
      "|      World|        10.65|\n",
      "|      World|        10.65|\n",
      "|     Brazil|            0|\n",
      "| Montenegro|            0|\n",
      "|Philippines|            0|\n",
      "|     Mexico|            0|\n",
      "|  Indonesia|            0|\n",
      "|  Sri Lanka|            0|\n",
      "|    Tunisia|            0|\n",
      "|    Tunisia|            0|\n",
      "| Kazakhstan|            0|\n",
      "|    Romania|            0|\n",
      "|    Morocco|            0|\n",
      "|    Croatia|            0|\n",
      "|    Croatia|            0|\n",
      "|    Moldova|            0|\n",
      "+-----------+-------------+\n",
      "only showing top 20 rows\n",
      "\n"
     ]
    }
   ],
   "source": [
    "spark.sql(\"\"\"SELECT *\n",
    "          FROM country_interest_rate\n",
    "          \"\"\").show()\n"
   ]
  },
  {
   "cell_type": "code",
   "execution_count": 117,
   "metadata": {},
   "outputs": [],
   "source": [
    "df_big.select(func.col(\"Country\"), func.col(\"Interest Rate\").alias(\"interest_rate\"))\\\n",
    "    .createOrReplaceTempView(\"country_interest_rate\")"
   ]
  },
  {
   "cell_type": "code",
   "execution_count": 120,
   "metadata": {},
   "outputs": [],
   "source": [
    "df_country_irate = spark.sql(\"\"\"SELECT *\n",
    "                      FROM country_interest_rate\n",
    "                      WHERE interest_rate = 0\n",
    "                      \"\"\")"
   ]
  },
  {
   "cell_type": "markdown",
   "metadata": {},
   "source": [
    "# Parquet"
   ]
  },
  {
   "cell_type": "markdown",
   "metadata": {},
   "source": [
    "## Save/Load a parquet"
   ]
  },
  {
   "cell_type": "markdown",
   "metadata": {},
   "source": [
    "Parquet is a columnar format that is supported by many other data processing systems. Spark SQL provides support for both reading and writing Parquet files that automatically preserves the schema of the original data. When writing Parquet files, all columns are automatically converted to be nullable for compatibility reasons."
   ]
  },
  {
   "cell_type": "code",
   "execution_count": 130,
   "metadata": {},
   "outputs": [],
   "source": [
    "date_file = datetime.now().strftime(\"%m-%d--%H-%S-%s\")\n",
    "\n",
    "path_to_parquet = \"output_data/df/{}\".format(date_file)"
   ]
  },
  {
   "cell_type": "code",
   "execution_count": 131,
   "metadata": {},
   "outputs": [],
   "source": [
    "df_country_irate.write.parquet(path_to_parquet)"
   ]
  },
  {
   "cell_type": "code",
   "execution_count": 132,
   "metadata": {},
   "outputs": [
    {
     "name": "stdout",
     "output_type": "stream",
     "text": [
      "+--------------------+-------------+\n",
      "|             Country|interest_rate|\n",
      "+--------------------+-------------+\n",
      "|             Morocco|         0.69|\n",
      "|           Indonesia|         0.93|\n",
      "|            Bulgaria|         0.38|\n",
      "|Macedonia, former...|            0|\n",
      "|           Indonesia|         0.93|\n",
      "|               Chile|            0|\n",
      "|             Morocco|         0.39|\n",
      "|           Indonesia|         0.87|\n",
      "|           Indonesia|         0.87|\n",
      "|             Croatia|         0.39|\n",
      "|             Romania|         0.39|\n",
      "|             Morocco|         0.39|\n",
      "|            Bulgaria|         0.38|\n",
      "|            Bulgaria|         0.38|\n",
      "|            Bulgaria|         0.38|\n",
      "|             Morocco|         0.39|\n",
      "|             Morocco|         0.39|\n",
      "|            Bulgaria|         0.38|\n",
      "|           Indonesia|         0.87|\n",
      "|           Indonesia|         0.87|\n",
      "+--------------------+-------------+\n",
      "only showing top 20 rows\n",
      "\n"
     ]
    }
   ],
   "source": [
    "spark.read.load(path_to_parquet).show()"
   ]
  },
  {
   "cell_type": "markdown",
   "metadata": {},
   "source": [
    "## Run SQL on files directly"
   ]
  },
  {
   "cell_type": "code",
   "execution_count": 133,
   "metadata": {},
   "outputs": [
    {
     "data": {
      "text/plain": [
       "'output_data/df/02-08--14-30-1581189090'"
      ]
     },
     "execution_count": 133,
     "metadata": {},
     "output_type": "execute_result"
    }
   ],
   "source": [
    "path_to_parquet"
   ]
  },
  {
   "cell_type": "code",
   "execution_count": 154,
   "metadata": {},
   "outputs": [],
   "source": [
    "df_parquet = spark.sql(\"\"\"\n",
    "                        SELECT\n",
    "                            max(interest_rate) AS max_interest_rate\n",
    "                            , min(interest_rate) AS min_interest_rate\n",
    "                            , avg(interest_rate) AS avg_interest_rate\n",
    "                            , Country\n",
    "                        FROM parquet.`{}`\n",
    "                        --WHERE interest_rate > 0.9\n",
    "                        GROUP BY Country\n",
    "                        \"\"\".format(path_to_parquet))"
   ]
  },
  {
   "cell_type": "code",
   "execution_count": 155,
   "metadata": {},
   "outputs": [
    {
     "name": "stdout",
     "output_type": "stream",
     "text": [
      "+-----------------+-----------------+--------------------+------------------+\n",
      "|max_interest_rate|min_interest_rate|   avg_interest_rate|           Country|\n",
      "+-----------------+-----------------+--------------------+------------------+\n",
      "|             0.94|                0| 0.03667334669338678|          Paraguay|\n",
      "|             0.69|                0|0.006888185654008...|             World|\n",
      "|                0|                0|                 0.0|        Cabo Verde|\n",
      "|                0|                0|                 0.0|     Taiwan, China|\n",
      "|             0.99|                0| 0.20529373789541647|       Philippines|\n",
      "|                0|                0|                 0.0|          Malaysia|\n",
      "|                0|                0|                 0.0|              Fiji|\n",
      "|             0.99|                0|  0.1428481984642647|            Turkey|\n",
      "|                0|                0|                 0.0|              Iraq|\n",
      "|             0.99|                0|  0.2613406380921692|            Jordan|\n",
      "|                0|                0|                 0.0|            Greece|\n",
      "|                0|                0|                 0.0|            Kosovo|\n",
      "|                0|                0|                 0.0|         Sri Lanka|\n",
      "|                0|                0|                 0.0|Yugoslavia, former|\n",
      "|                0|                0|                 0.0|          Dominica|\n",
      "|                0|                0|                 0.0|           Algeria|\n",
      "|             0.99|                0| 0.28351606039112476|         Argentina|\n",
      "|                0|                0|                 0.0|            Angola|\n",
      "|             0.99|                0| 0.30440914158305454|           Ecuador|\n",
      "|             0.94|             0.68|  0.7031182795698924|           Lesotho|\n",
      "+-----------------+-----------------+--------------------+------------------+\n",
      "only showing top 20 rows\n",
      "\n"
     ]
    }
   ],
   "source": [
    "df_parquet.show()"
   ]
  },
  {
   "cell_type": "code",
   "execution_count": 158,
   "metadata": {},
   "outputs": [
    {
     "data": {
      "text/plain": [
       "228358"
      ]
     },
     "execution_count": 158,
     "metadata": {},
     "output_type": "execute_result"
    }
   ],
   "source": [
    "df_country_irate.count()"
   ]
  },
  {
   "cell_type": "code",
   "execution_count": 166,
   "metadata": {},
   "outputs": [],
   "source": [
    "path_to_parquet_by_country = \"output_data/namesPartByCountry.parquet\""
   ]
  },
  {
   "cell_type": "code",
   "execution_count": 161,
   "metadata": {},
   "outputs": [],
   "source": [
    "df_country_irate.write.partitionBy(\"Country\").format(\"parquet\").save(path_to_parquet_by_country)"
   ]
  },
  {
   "cell_type": "code",
   "execution_count": 184,
   "metadata": {},
   "outputs": [
    {
     "name": "stdout",
     "output_type": "stream",
     "text": [
      "\u001b[34mdf\u001b[m\u001b[m/                         \u001b[34mnamesPartByCountry.parquet\u001b[m\u001b[m/\r\n"
     ]
    }
   ],
   "source": [
    "ls \"output_data/\""
   ]
  },
  {
   "cell_type": "code",
   "execution_count": null,
   "metadata": {},
   "outputs": [],
   "source": []
  },
  {
   "cell_type": "code",
   "execution_count": 192,
   "metadata": {},
   "outputs": [
    {
     "name": "stdout",
     "output_type": "stream",
     "text": [
      "+----------------------------------+\n",
      "|sum(CAST(interest_rate AS DOUBLE))|\n",
      "+----------------------------------+\n",
      "|                 5210.539999999902|\n",
      "+----------------------------------+\n",
      "\n",
      "CPU times: user 1.21 ms, sys: 1.31 ms, total: 2.53 ms\n",
      "Wall time: 195 ms\n"
     ]
    }
   ],
   "source": [
    "%%time\n",
    "spark.sql(\"\"\"\n",
    "            SELECT\n",
    "                sum(*)\n",
    "            FROM parquet.`{}/Country=Ch*`\n",
    "            \"\"\".format(path_to_parquet_by_country)).show()"
   ]
  },
  {
   "cell_type": "code",
   "execution_count": null,
   "metadata": {},
   "outputs": [],
   "source": []
  },
  {
   "cell_type": "markdown",
   "metadata": {},
   "source": [
    "# Querying the data"
   ]
  },
  {
   "cell_type": "code",
   "execution_count": null,
   "metadata": {},
   "outputs": [],
   "source": []
  },
  {
   "cell_type": "code",
   "execution_count": null,
   "metadata": {},
   "outputs": [],
   "source": []
  },
  {
   "cell_type": "markdown",
   "metadata": {},
   "source": [
    "# Read table postgres"
   ]
  },
  {
   "cell_type": "code",
   "execution_count": 13,
   "metadata": {},
   "outputs": [],
   "source": [
    "# create a new spark session, que sera la base para nuestra aplicacion\n",
    "\n",
    "spark = SparkSession.builder\\\n",
    "                    .appName(\"Test\")\\\n",
    "                    .config(\"spark.jars.packages\", \"org.postgresql:postgresql:9.4.1211\")\\\n",
    "                    .getOrCreate()\n",
    "\n",
    "#spark sera el punto de entrada para la aplicacion\n",
    "# el package se pude descargar de https://jdbc.postgresql.org/download.html"
   ]
  },
  {
   "cell_type": "code",
   "execution_count": 14,
   "metadata": {},
   "outputs": [],
   "source": [
    "# variables de conexion a la base de datos\n",
    "jdbcPort = 5432                                                                           \n",
    "\n",
    "jdbcHostname = \"YOUR_HOST\"\n",
    "jdbcDatabase = \"YOUR_DB_NAME\"                                       \n",
    "jdbcUsername= \"YOUR_USERNAME\"                                                              \n",
    "jdbcPassword= \"YOUR_PASS\"\n",
    "# jdbc url para conectarse a la base de datos\n",
    "jdbcUrl = \"jdbc:postgresql://{0}:{1}/{2}\".format(jdbcHostname, jdbcPort, jdbcDatabase)\n",
    "\n",
    "# propiedades para la conexion a la base de datos\n",
    "connectionProperties = {                                                                  \n",
    "  \"user\" : jdbcUsername,\n",
    "  \"password\" : jdbcPassword,\n",
    "  \"driver\": 'org.postgresql.Driver',\n",
    "  \"ssl\":'true',\n",
    "  \"sslfactory\":'org.postgresql.ssl.NonValidatingFactory',\n",
    "  \"stringtype\": \"unspecified\"                                                             \n",
    "}"
   ]
  },
  {
   "cell_type": "code",
   "execution_count": 15,
   "metadata": {},
   "outputs": [],
   "source": [
    "query=\"\"\"(SELECT * FROM pg_catalog.pg_tables) AS data_table\"\"\""
   ]
  },
  {
   "cell_type": "code",
   "execution_count": null,
   "metadata": {},
   "outputs": [],
   "source": [
    "df_tables = spark.read.jdbc(url=jdbcUrl,\n",
    "                              table=query,\n",
    "                              properties=connectionProperties)"
   ]
  },
  {
   "cell_type": "code",
   "execution_count": null,
   "metadata": {},
   "outputs": [],
   "source": [
    "df_tables.show()"
   ]
  },
  {
   "cell_type": "code",
   "execution_count": null,
   "metadata": {},
   "outputs": [],
   "source": [
    "query=\"\"\"(SELECT * FROM pg_catalog.pg_tables where tableowner = 'sjkkapmzuixjbz') AS data_table\"\"\""
   ]
  },
  {
   "cell_type": "code",
   "execution_count": null,
   "metadata": {},
   "outputs": [],
   "source": [
    "df_tables = spark.read.jdbc(url=jdbcUrl,\n",
    "                              table=query,\n",
    "                              properties=connectionProperties)"
   ]
  },
  {
   "cell_type": "code",
   "execution_count": null,
   "metadata": {},
   "outputs": [],
   "source": [
    "df_tables.show()"
   ]
  },
  {
   "cell_type": "code",
   "execution_count": null,
   "metadata": {},
   "outputs": [],
   "source": []
  }
 ],
 "metadata": {
  "kernelspec": {
   "display_name": "Python 3",
   "language": "python",
   "name": "python3"
  },
  "language_info": {
   "codemirror_mode": {
    "name": "ipython",
    "version": 3
   },
   "file_extension": ".py",
   "mimetype": "text/x-python",
   "name": "python",
   "nbconvert_exporter": "python",
   "pygments_lexer": "ipython3",
   "version": "3.7.3"
  }
 },
 "nbformat": 4,
 "nbformat_minor": 2
}
